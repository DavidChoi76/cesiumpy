{
 "cells": [
  {
   "cell_type": "code",
   "execution_count": 1,
   "metadata": {
    "collapsed": false
   },
   "outputs": [],
   "source": [
    "import cesiumpy"
   ]
  },
  {
   "cell_type": "code",
   "execution_count": 2,
   "metadata": {
    "collapsed": false
   },
   "outputs": [
    {
     "data": {
      "text/html": [
       "<script src=\"https://cesiumjs.org/Cesium/Build/Cesium/Cesium.js\"></script>\n",
       "<link rel=\"stylesheet\" href=\"http://cesiumjs.org/Cesium/Build/CesiumUnminified/Widgets/widgets.css\" type=\"text/css\">\n",
       "<div id=\"container-4359517200\" style=\"width:100%; height:100%;\"><div>\n",
       "<script type=\"text/javascript\">\n",
       "  var widget = new Cesium.CesiumWidget(\"container-4359517200\");\n",
       "</script>"
      ],
      "text/plain": [
       "<cesiumpy.widget.CesiumWidget at 0x103d8f410>"
      ]
     },
     "execution_count": 2,
     "metadata": {},
     "output_type": "execute_result"
    }
   ],
   "source": [
    "v = cesiumpy.CesiumWidget()\n",
    "v"
   ]
  },
  {
   "cell_type": "code",
   "execution_count": 3,
   "metadata": {
    "collapsed": false
   },
   "outputs": [
    {
     "data": {
      "text/html": [
       "<script src=\"https://cesiumjs.org/Cesium/Build/Cesium/Cesium.js\"></script>\n",
       "<link rel=\"stylesheet\" href=\"http://cesiumjs.org/Cesium/Build/CesiumUnminified/Widgets/widgets.css\" type=\"text/css\">\n",
       "<div id=\"container-4359606928\" style=\"width:100%; height:100%;\"><div>\n",
       "<script type=\"text/javascript\">\n",
       "  var widget = new Cesium.Viewer(\"container-4359606928\", {animation : true, baseLayerPicker : false, fullscreenButton : false, geocoder : false, homeButton : false, infoBox : false, sceneModePicker : true, selectionIndicator : false, timeline : false, navigationHelpButton : false, navigationInstructionsInitiallyVisible : false});\n",
       "</script>"
      ],
      "text/plain": [
       "<cesiumpy.viewer.Viewer at 0x103da5290>"
      ]
     },
     "execution_count": 3,
     "metadata": {},
     "output_type": "execute_result"
    }
   ],
   "source": [
    "options = dict(animation=True, baseLayerPicker=False, fullscreenButton=False,\n",
    "               geocoder=False, homeButton=False, infoBox=False, sceneModePicker=True,  \n",
    "               selectionIndicator=False, navigationHelpButton=False,\n",
    "               timeline=False, navigationInstructionsInitiallyVisible=False)\n",
    "\n",
    "v = cesiumpy.Viewer(**options)\n",
    "v"
   ]
  },
  {
   "cell_type": "code",
   "execution_count": null,
   "metadata": {
    "collapsed": true
   },
   "outputs": [],
   "source": []
  }
 ],
 "metadata": {
  "kernelspec": {
   "display_name": "Python 2",
   "language": "python",
   "name": "python2"
  },
  "language_info": {
   "codemirror_mode": {
    "name": "ipython",
    "version": 2
   },
   "file_extension": ".py",
   "mimetype": "text/x-python",
   "name": "python",
   "nbconvert_exporter": "python",
   "pygments_lexer": "ipython2",
   "version": "2.7.11"
  }
 },
 "nbformat": 4,
 "nbformat_minor": 0
}
