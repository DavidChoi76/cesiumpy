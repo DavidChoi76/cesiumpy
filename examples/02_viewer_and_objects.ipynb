{
 "cells": [
  {
   "cell_type": "code",
   "execution_count": 1,
   "metadata": {
    "collapsed": false
   },
   "outputs": [],
   "source": [
    "import cesiumpy"
   ]
  },
  {
   "cell_type": "code",
   "execution_count": 2,
   "metadata": {
    "collapsed": false
   },
   "outputs": [],
   "source": [
    "options = dict(animation=True, baseLayerPicker=False, fullscreenButton=False,\n",
    "               geocoder=False, homeButton=False, infoBox=False, sceneModePicker=True,  \n",
    "               selectionIndicator=False, navigationHelpButton=False,\n",
    "               timeline=False, navigationInstructionsInitiallyVisible=False)"
   ]
  },
  {
   "cell_type": "code",
   "execution_count": 3,
   "metadata": {
    "collapsed": false
   },
   "outputs": [
    {
     "data": {
      "text/html": [
       "<script src=\"https://cesiumjs.org/Cesium/Build/Cesium/Cesium.js\"></script>\n",
       "<link rel=\"stylesheet\" href=\"http://cesiumjs.org/Cesium/Build/CesiumUnminified/Widgets/CesiumWidget/CesiumWidget.css\" type=\"text/css\">\n",
       "<div id=\"container-4342617232\" style=\"width:100%; height:100%;\"><div>\n",
       "<script type=\"text/javascript\">\n",
       "  var widget = new Cesium.Viewer(\"container-4342617232\", {animation : true, baseLayerPicker : false, fullscreenButton : false, geocoder : false, homeButton : false, infoBox : false, sceneModePicker : true, selectionIndicator : false, timeline : false, navigationHelpButton : false, navigationInstructionsInitiallyVisible : false});\n",
       "  widget.entities.add({position : Cesium.Cartesian3.fromDegrees(-120, 40, 0), box : {dimensions : new Cesium.Cartesian3(400000.0, 300000.0, 500000.0), material : Cesium.Color.RED}});\n",
       "</script>"
      ],
      "text/plain": [
       "<cesiumpy.viewer.Viewer object at 0x102d71490>"
      ]
     },
     "execution_count": 3,
     "metadata": {},
     "output_type": "execute_result"
    }
   ],
   "source": [
    "v = cesiumpy.Viewer(**options)\n",
    "b = cesiumpy.Box(dimensions=(40e4, 30e4, 50e4), material=cesiumpy.color.RED, position=[-120, 40, 0])\n",
    "v.entities.add(b)\n",
    "v"
   ]
  },
  {
   "cell_type": "code",
   "execution_count": 4,
   "metadata": {
    "collapsed": false
   },
   "outputs": [
    {
     "data": {
      "text/html": [
       "<script src=\"https://cesiumjs.org/Cesium/Build/Cesium/Cesium.js\"></script>\n",
       "<link rel=\"stylesheet\" href=\"http://cesiumjs.org/Cesium/Build/CesiumUnminified/Widgets/CesiumWidget/CesiumWidget.css\" type=\"text/css\">\n",
       "<div id=\"container-4357649808\" style=\"width:100%; height:100%;\"><div>\n",
       "<script type=\"text/javascript\">\n",
       "  var widget = new Cesium.Viewer(\"container-4357649808\", {animation : true, baseLayerPicker : false, fullscreenButton : false, geocoder : false, homeButton : false, infoBox : false, sceneModePicker : true, selectionIndicator : false, timeline : false, navigationHelpButton : false, navigationInstructionsInitiallyVisible : false});\n",
       "  widget.entities.add({position : Cesium.Cartesian3.fromDegrees(-120, 40, 0), box : {dimensions : new Cesium.Cartesian3(400000.0, 300000.0, 500000.0), material : Cesium.Color.RED}});\n",
       "  widget.entities.add({position : Cesium.Cartesian3.fromDegrees(-110, 40, 0), ellipse : {semiMinorAxis : 250000.0, semiMajorAxis : 400000.0, material : Cesium.Color.BLUE}});\n",
       "  widget.entities.add({position : Cesium.Cartesian3.fromDegrees(-100, 40, 500000.0), cylinder : {length : 1000000.0, topRadius : 100000.0, bottomRadius : 100000.0, material : Cesium.Color.AQUA}});\n",
       "  widget.entities.add({polygon : {hierarchy : Cesium.Cartesian3.fromDegreesArray([-90, 40, -95, 40, -95, 45, -90, 40]), material : Cesium.Color.ORANGE}});\n",
       "  widget.entities.add({rectangle : {coordinates : Cesium.Rectangle.fromDegrees(-85, 40, -80, 45), material : Cesium.Color.GREEN}});\n",
       "  widget.entities.add({position : Cesium.Cartesian3.fromDegrees(-70, 40, 0), ellipsoid : {radii : new Cesium.Cartesian3(200000.0, 200000.0, 300000.0), material : Cesium.Color.GREEN}});\n",
       "  widget.entities.add({wall : {positions : Cesium.Cartesian3.fromDegreesArray([-60, 40, -65, 40, -65, 45, -60, 45]), maximumHeights : [100000.0, 100000.0, 100000.0, 100000.0], minimumHeights : [0, 0, 0, 0], material : Cesium.Color.RED}});\n",
       "  widget.entities.add({corridor : {positions : Cesium.Cartesian3.fromDegreesArray([-120, 30, -90, 35, -60, 30]), width : 200000.0, material : Cesium.Color.RED}});\n",
       "  widget.entities.add({polyline : {positions : Cesium.Cartesian3.fromDegreesArray([-120, 25, -90, 30, -60, 25]), width : 0.5, material : Cesium.Color.BLUE}});\n",
       "  widget.entities.add({polylineVolume : {positions : Cesium.Cartesian3.fromDegreesArray([-120, 20, -90, 25, -60, 20]), shape : [new Cesium.Cartesian2(-50000.0, -50000.0), new Cesium.Cartesian2(50000.0, -50000.0), new Cesium.Cartesian2(50000.0, 50000.0), new Cesium.Cartesian2(-50000.0, 50000.0)], material : Cesium.Color.GREEN}});\n",
       "</script>"
      ],
      "text/plain": [
       "<cesiumpy.viewer.Viewer object at 0x103bc7590>"
      ]
     },
     "execution_count": 4,
     "metadata": {},
     "output_type": "execute_result"
    }
   ],
   "source": [
    "v = cesiumpy.Viewer(**options)\n",
    "\n",
    "box = cesiumpy.Box(position=[-120, 40, 0], dimensions=(40e4, 30e4, 50e4), material=cesiumpy.color.RED)\n",
    "v.entities.add(box)\n",
    "\n",
    "ellipse = cesiumpy.Ellipse( position=[-110, 40, 0], semiMinorAxis=25e4, semiMajorAxis=40e4, material=cesiumpy.color.BLUE)\n",
    "v.entities.add(ellipse)\n",
    "\n",
    "cylinder = cesiumpy.Cylinder(position=[-100, 40, 50e4], length=100e4, topRadius=10e4, bottomRadius=10e4, material=cesiumpy.color.AQUA)\n",
    "v.entities.add(cylinder)\n",
    "\n",
    "polygon = cesiumpy.Polygon(hierarchy=[-90, 40, -95, 40, -95, 45, -90, 40], material=cesiumpy.color.ORANGE)\n",
    "v.entities.add(polygon)\n",
    "\n",
    "rectangle = cesiumpy.Rectangle(coordinates=(-85, 40, -80, 45), material=cesiumpy.color.GREEN)\n",
    "v.entities.add(rectangle)\n",
    "\n",
    "ellipsoid = cesiumpy.Ellipsoid(position=(-70, 40, 0), radii=(20e4, 20e4, 30e4), material=cesiumpy.color.GREEN)\n",
    "v.entities.add(ellipsoid)\n",
    "\n",
    "wall = cesiumpy.Wall(positions=[-60, 40, -65, 40, -65, 45, -60, 45], maximumHeights=[10e4] * 4, minimumHeights=[0] * 4,\n",
    "                     material=cesiumpy.color.RED)\n",
    "v.entities.add(wall)\n",
    "\n",
    "corridor = cesiumpy.Corridor(positions=[-120, 30, -90, 35, -60, 30], width=2e5, material=cesiumpy.color.RED)\n",
    "v.entities.add(corridor)\n",
    "\n",
    "polyline = cesiumpy.Polyline(positions=[-120, 25, -90, 30, -60, 25], width=0.5, material=cesiumpy.color.BLUE)\n",
    "v.entities.add(polyline)\n",
    "\n",
    "polylinevolume = cesiumpy.PolylineVolume(positions=[-120, 20, -90, 25, -60, 20],\n",
    "                                         shape=[-5e4, -5e4, 5e4, -5e4, 5e4, 5e4, -5e4, 5e4],\n",
    "                                         material=cesiumpy.color.GREEN)\n",
    "v.entities.add(polylinevolume)\n",
    "v"
   ]
  }
 ],
 "metadata": {
  "kernelspec": {
   "display_name": "Python 2",
   "language": "python",
   "name": "python2"
  },
  "language_info": {
   "codemirror_mode": {
    "name": "ipython",
    "version": 2
   },
   "file_extension": ".py",
   "mimetype": "text/x-python",
   "name": "python",
   "nbconvert_exporter": "python",
   "pygments_lexer": "ipython2",
   "version": "2.7.11"
  }
 },
 "nbformat": 4,
 "nbformat_minor": 0
}
