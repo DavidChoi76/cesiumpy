{
 "cells": [
  {
   "cell_type": "code",
   "execution_count": 1,
   "metadata": {
    "collapsed": true
   },
   "outputs": [],
   "source": [
    "import os\n",
    "import cesiumpy"
   ]
  },
  {
   "cell_type": "code",
   "execution_count": 2,
   "metadata": {
    "collapsed": false
   },
   "outputs": [
    {
     "data": {
      "text/html": [
       "<script src=\"https://cesiumjs.org/Cesium/Build/Cesium/Cesium.js\"></script>\n",
       "<link rel=\"stylesheet\" href=\"http://cesiumjs.org/Cesium/Build/CesiumUnminified/Widgets/widgets.css\" type=\"text/css\">\n",
       "<div id=\"container-4344949456\" style=\"width:100%; height:100%;\"><div>\n",
       "<script type=\"text/javascript\">\n",
       "  var widget = new Cesium.Viewer(\"container-4344949456\");\n",
       "  widget.dataSources.add(Cesium.GeoJsonDataSource.load(\"data/example.geojson\", {markerSymbol : \"!\"}));\n",
       "  widget.camera.flyTo({destination : Cesium.Cartesian3.fromDegrees(-118.27, 34.05, 10000)});\n",
       "</script>"
      ],
      "text/plain": [
       "<cesiumpy.viewer.Viewer at 0x102faaad0>"
      ]
     },
     "execution_count": 2,
     "metadata": {},
     "output_type": "execute_result"
    }
   ],
   "source": [
    "ds = cesiumpy.GeoJsonDataSource(os.path.join('data', 'example.geojson'), markerSymbol='!')\n",
    "v = cesiumpy.Viewer()\n",
    "v.dataSources.add(ds)\n",
    "v.camera.flyTo((-118.27, 34.05, 10000))\n",
    "v"
   ]
  },
  {
   "cell_type": "code",
   "execution_count": 3,
   "metadata": {
    "collapsed": false
   },
   "outputs": [
    {
     "data": {
      "text/plain": [
       "u'Cesium.GeoJsonDataSource.load(\"data/example.geojson\", {markerSymbol : \"!\"})'"
      ]
     },
     "execution_count": 3,
     "metadata": {},
     "output_type": "execute_result"
    }
   ],
   "source": [
    "ds.script"
   ]
  },
  {
   "cell_type": "code",
   "execution_count": 4,
   "metadata": {
    "collapsed": false
   },
   "outputs": [
    {
     "data": {
      "text/plain": [
       "u'Cesium.GeoJsonDataSource.load(\"data/example.geojson\", {markerSymbol : \"!\"})'"
      ]
     },
     "execution_count": 4,
     "metadata": {},
     "output_type": "execute_result"
    }
   ],
   "source": [
    "cesiumpy.GeoJsonDataSource.load(os.path.join('data', 'example.geojson'), markerSymbol='!').script"
   ]
  },
  {
   "cell_type": "code",
   "execution_count": 5,
   "metadata": {
    "collapsed": false
   },
   "outputs": [
    {
     "data": {
      "text/html": [
       "<script src=\"https://cesiumjs.org/Cesium/Build/Cesium/Cesium.js\"></script>\n",
       "<link rel=\"stylesheet\" href=\"http://cesiumjs.org/Cesium/Build/CesiumUnminified/Widgets/widgets.css\" type=\"text/css\">\n",
       "<div id=\"container-4360476880\" style=\"width:100%; height:100%;\"><div>\n",
       "<script type=\"text/javascript\">\n",
       "  var widget = new Cesium.Viewer(\"container-4360476880\");\n",
       "  widget.dataSources.add(Cesium.KmlDataSource.load(\"data/example.kml\"));\n",
       "  widget.camera.flyTo({destination : Cesium.Cartesian3.fromDegrees(-118.27, 34.05, 10000)});\n",
       "</script>"
      ],
      "text/plain": [
       "<cesiumpy.viewer.Viewer at 0x103e798d0>"
      ]
     },
     "execution_count": 5,
     "metadata": {},
     "output_type": "execute_result"
    }
   ],
   "source": [
    "ds = cesiumpy.KmlDataSource(os.path.join('data', 'example.kml'))\n",
    "v = cesiumpy.Viewer()\n",
    "v.dataSources.add(ds)\n",
    "v.camera.flyTo((-118.27, 34.05, 10000))\n",
    "v"
   ]
  },
  {
   "cell_type": "code",
   "execution_count": null,
   "metadata": {
    "collapsed": true
   },
   "outputs": [],
   "source": []
  }
 ],
 "metadata": {
  "kernelspec": {
   "display_name": "Python 2",
   "language": "python",
   "name": "python2"
  },
  "language_info": {
   "codemirror_mode": {
    "name": "ipython",
    "version": 2
   },
   "file_extension": ".py",
   "mimetype": "text/x-python",
   "name": "python",
   "nbconvert_exporter": "python",
   "pygments_lexer": "ipython2",
   "version": "2.7.11"
  }
 },
 "nbformat": 4,
 "nbformat_minor": 0
}
