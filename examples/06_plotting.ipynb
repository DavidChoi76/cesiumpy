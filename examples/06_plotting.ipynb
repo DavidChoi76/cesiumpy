{
 "cells": [
  {
   "cell_type": "code",
   "execution_count": null,
   "metadata": {
    "collapsed": true
   },
   "outputs": [],
   "source": [
    "import cesiumpy"
   ]
  },
  {
   "cell_type": "code",
   "execution_count": null,
   "metadata": {
    "collapsed": false
   },
   "outputs": [],
   "source": [
    "v = cesiumpy.Viewer()\n",
    "v.plot.scatter([130, 140, 150], [30, 40, 50])"
   ]
  },
  {
   "cell_type": "code",
   "execution_count": null,
   "metadata": {
    "collapsed": false
   },
   "outputs": [],
   "source": [
    "v = cesiumpy.Viewer()\n",
    "v.plot.scatter([130, 140, 150], [30, 40, 50], size=[10, 20, 30], color=cesiumpy.color.RED)"
   ]
  },
  {
   "cell_type": "code",
   "execution_count": null,
   "metadata": {
    "collapsed": false
   },
   "outputs": [],
   "source": [
    "v = cesiumpy.Viewer()\n",
    "v.plot.bar([130, 140, 150], [30, 40, 50], z=[10e5, 20e5, 30e5], color=cesiumpy.color.AQUA)"
   ]
  },
  {
   "cell_type": "code",
   "execution_count": null,
   "metadata": {
    "collapsed": false
   },
   "outputs": [],
   "source": [
    "v = cesiumpy.Viewer()\n",
    "v.plot.bar([130, 140, 150], [30, 40, 50], z=[10e5, 20e5, 30e5],\n",
    "           color=cesiumpy.color.AQUA, size=1e5)"
   ]
  },
  {
   "cell_type": "code",
   "execution_count": null,
   "metadata": {
    "collapsed": false
   },
   "outputs": [],
   "source": [
    "v = cesiumpy.Viewer()\n",
    "v.plot.label(['A', 'B', 'C'], [130, 140, 150], [30, 40, 50])"
   ]
  },
  {
   "cell_type": "code",
   "execution_count": null,
   "metadata": {
    "collapsed": false
   },
   "outputs": [],
   "source": [
    "v = cesiumpy.Viewer()\n",
    "v.plot.pin([130, 140, 150], [30, 40, 50])"
   ]
  },
  {
   "cell_type": "code",
   "execution_count": null,
   "metadata": {
    "collapsed": false
   },
   "outputs": [],
   "source": [
    "v = cesiumpy.Viewer()\n",
    "v.plot.pin([130, 140, 150], [30, 40, 50], color=cesiumpy.color.RED, text=['!', '?', '!?'])"
   ]
  },
  {
   "cell_type": "code",
   "execution_count": null,
   "metadata": {
    "collapsed": true
   },
   "outputs": [],
   "source": []
  }
 ],
 "metadata": {
  "kernelspec": {
   "display_name": "Python 2",
   "language": "python",
   "name": "python2"
  },
  "language_info": {
   "codemirror_mode": {
    "name": "ipython",
    "version": 2
   },
   "file_extension": ".py",
   "mimetype": "text/x-python",
   "name": "python",
   "nbconvert_exporter": "python",
   "pygments_lexer": "ipython2",
   "version": "2.7.11"
  }
 },
 "nbformat": 4,
 "nbformat_minor": 0
}
